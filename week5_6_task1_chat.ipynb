{
  "cells": [
    {
      "cell_type": "code",
      "execution_count": 1,
      "metadata": {
        "vscode": {
          "languageId": "plaintext"
        },
        "id": "VfSvJiCPriyA"
      },
      "outputs": [],
      "source": [
        "# week5_6_task1_chat.ipynb"
      ]
    },
    {
      "cell_type": "markdown",
      "metadata": {
        "id": "Lkt3X4dPriyB"
      },
      "source": [
        "# 1. Persiapan Awal dan Pengaturan Kunci API\n",
        "#\n",
        "# Pertama, kita perlu install Google Generative AI SDK-nya dulu, terus atur Kunci API kita biar aman pakai Colab Secrets.\n",
        "#\n",
        "# **Cara Atur Kunci API di Google Colab:**\n",
        "# 1.  Klik ikon \"Kunci\" (Secrets) di sidebar kiri Colab.\n",
        "# 2.  Klik \"+ Tambah secret baru\" (\"+ Add a new secret\").\n",
        "# 3.  Untuk \"Nama\" (\"Name\"), isi dengan `GEMINI_API_KEY`.\n",
        "# 4.  Di bagian \"Nilai\" (\"Value\"), tempel (paste) Kunci API kamu:\n",
        "# 5.  Aktifkan tombol \"Akses notebook\" (\"Notebook access\").\n",
        "# 6.  Selesai! Kunci API-mu sudah bisa diakses dari kode."
      ]
    },
    {
      "cell_type": "code",
      "execution_count": 2,
      "metadata": {
        "vscode": {
          "languageId": "plaintext"
        },
        "id": "hV7LekGxriyB"
      },
      "outputs": [],
      "source": [
        "!pip install -q google-generativeai"
      ]
    },
    {
      "cell_type": "code",
      "execution_count": 3,
      "metadata": {
        "vscode": {
          "languageId": "plaintext"
        },
        "id": "KJmfAq-vriyC"
      },
      "outputs": [],
      "source": [
        "import google.generativeai as genai\n",
        "from google.colab import userdata # untul akses API dengan aman"
      ]
    },
    {
      "cell_type": "code",
      "execution_count": 4,
      "metadata": {
        "vscode": {
          "languageId": "plaintext"
        },
        "colab": {
          "base_uri": "https://localhost:8080/"
        },
        "id": "BwDrI87mriyC",
        "outputId": "193e55fa-b7da-49d2-f6a5-df1270d46b5d"
      },
      "outputs": [
        {
          "output_type": "stream",
          "name": "stdout",
          "text": [
            "API Gemini berhasil dikonfigurasi\n"
          ]
        }
      ],
      "source": [
        "# Ambil Kunci API dari Colab Secrets\n",
        "try:\n",
        "    GEMINI_API_KEY = userdata.get('GEMINI_API_KEY')\n",
        "    if not GEMINI_API_KEY:\n",
        "        raise ValueError(\"Kunci API tidak ditemukan. Coba setel dulu di Colab Secrets ya.\")\n",
        "    genai.configure(api_key=GEMINI_API_KEY)\n",
        "    print(\"API Gemini berhasil dikonfigurasi\")\n",
        "except Exception as e:\n",
        "    print(f\"🚨  error saat akses Kunci API: {e}\")\n",
        "    print(\"Pastikan kamu sudah mengatur GEMINI_API_KEY di Colab Secrets.\")\n",
        "    GEMINI_API_KEY = None # Jadi None jika gagal diambil"
      ]
    },
    {
      "cell_type": "code",
      "execution_count": 5,
      "metadata": {
        "vscode": {
          "languageId": "plaintext"
        },
        "colab": {
          "base_uri": "https://localhost:8080/"
        },
        "id": "mG3K_tJdriyC",
        "outputId": "202e5b2d-9db9-4cc4-c6e8-cdc778561461"
      },
      "outputs": [
        {
          "output_type": "stream",
          "name": "stdout",
          "text": [
            "Model Gemini 1.5 Flash siap dipakai\n"
          ]
        }
      ],
      "source": [
        "safety_settings = [\n",
        "    {\n",
        "        \"category\": \"HARM_CATEGORY_HARASSMENT\",\n",
        "        \"threshold\": \"BLOCK_MEDIUM_AND_ABOVE\"\n",
        "    },\n",
        "    {\n",
        "        \"category\": \"HARM_CATEGORY_HATE_SPEECH\",\n",
        "        \"threshold\": \"BLOCK_MEDIUM_AND_ABOVE\"\n",
        "    },\n",
        "    {\n",
        "        \"category\": \"HARM_CATEGORY_SEXUALLY_EXPLICIT\",\n",
        "        \"threshold\": \"BLOCK_MEDIUM_AND_ABOVE\"\n",
        "    },\n",
        "    {\n",
        "        \"category\": \"HARM_CATEGORY_DANGEROUS_CONTENT\",\n",
        "        \"threshold\": \"BLOCK_MEDIUM_AND_ABOVE\"\n",
        "    },\n",
        "]\n",
        "\n",
        "if GEMINI_API_KEY:\n",
        "    model = genai.GenerativeModel(\n",
        "        model_name='gemini-1.5-flash',\n",
        "        safety_settings=safety_settings\n",
        "        # Kamu bisa tambahkan generation_config di sini kalau mau lebih detail, contoh:\n",
        "        # generation_config=genai.types.GenerationConfig(\n",
        "        #     candidate_count=1,\n",
        "        #     stop_sequences=['x'], # Contoh urutan berhenti\n",
        "        #     max_output_tokens=1024,\n",
        "        #     temperature=0.7, # Biar responsnya agak kreatif\n",
        "        #     top_p=0.9,\n",
        "        #     top_k=40\n",
        "        # )\n",
        "    )\n",
        "    print(\"Model Gemini 1.5 Flash siap dipakai\")\n",
        "else:\n",
        "    print(\"Kunci API-Null.\")\n",
        "    model = None"
      ]
    },
    {
      "cell_type": "code",
      "execution_count": 6,
      "metadata": {
        "vscode": {
          "languageId": "plaintext"
        },
        "id": "RuGDaKYoriyD"
      },
      "outputs": [],
      "source": [
        "# Membuat Aplikasi Chat\n",
        "# Kita akan buat chat yang bisa mengingat obrolan sebelumnya (multi-turn). Jadi, modelnya bisa nyambung kalau kita tanya hal yang berkaitan dengan percakapan tadi.\n",
        "\n",
        "if model:\n",
        "    # Mulai sesi chat, ini yang akan menyimpan histori percakapan\n",
        "    chat = model.start_chat(history=[]) # Awalnya, histori kosong\n",
        "else:\n",
        "    chat = None\n",
        "\n",
        "def jalankan_chat():\n",
        "    \"\"\"\n",
        "    Fungsi ini menjalankan antarmuka chat sederhana di command-line.\n",
        "    Dia juga mengelola histori percakapan biar chat-nya nyambung.\n",
        "    \"\"\"\n",
        "    if not chat:\n",
        "        print(\"Model chat belum siap nih. Cek lagi Kunci API dan pengaturan modelnya ya. Chat dibatalkan.\")\n",
        "        return\n",
        "\n",
        "    print(\"🗣️ Mulai Ngobrol dengan Gemini 1.5 Flash! Ketik 'quit' atau 'exit' buat udahan.\")\n",
        "    print(\"-\" * 30)\n",
        "\n",
        "    while True:\n",
        "        input_pengguna = input(\"Kamu: \")\n",
        "        if input_pengguna.lower() in ['quit', 'exit']:\n",
        "            print(\"🤖 Asisten: Oke, dadah! 👋 Sampai jumpa lagi!\")\n",
        "            break\n",
        "\n",
        "        if not input_pengguna.strip():\n",
        "            print(\"🤖 Asisten: Hmm, kamu belum ngetik apa-apa nih.\")\n",
        "            continue\n",
        "\n",
        "        try:\n",
        "            # Kirim pesan pengguna dan dapatkan responsnya\n",
        "            respons = chat.send_message(input_pengguna)\n",
        "            print(f\"🤖 Asisten: {respons.text}\")\n",
        "        except Exception as e:\n",
        "            print(f\"🚨 Aduh, maaf ada error: {e}\")\n",
        "            print(\"🤖 Asisten: Duh, maaf banget, lagi ada gangguan. Coba tanya lagi ya.\")\n",
        "            # Mungkin kamu mau berhenti atau reset chat di sini, tergantung errornya\n",
        "            # Biar simpel, kita lanjut aja, tapi histori chat mungkin jadi agak aneh\n",
        "\n",
        "        print(\"-\" * 10)"
      ]
    },
    {
      "cell_type": "code",
      "execution_count": null,
      "metadata": {
        "vscode": {
          "languageId": "plaintext"
        },
        "colab": {
          "base_uri": "https://localhost:8080/",
          "height": 360
        },
        "id": "FwMZbnmDriyD",
        "outputId": "5948172d-1526-40ee-faec-97c1fc5aaaaf"
      },
      "outputs": [
        {
          "output_type": "stream",
          "name": "stdout",
          "text": [
            "🗣️ Mulai Ngobrol dengan Gemini 1.5 Flash! Ketik 'quit' atau 'exit' buat udahan.\n",
            "------------------------------\n",
            "Kamu: kamu berasal dari mana ? \n",
            "🤖 Asisten: Saya adalah model bahasa besar, yang dilatih oleh Google.\n",
            "----------\n",
            "Kamu: PLanet apa google berada ? \n",
            "🤖 Asisten: Google bukanlah planet. Google adalah sebuah perusahaan teknologi.  Perusahaan tersebut berbasis di planet Bumi.\n",
            "\n",
            "----------\n",
            "Kamu: gamau mau nya planet... \n",
            "🤖 Asisten: Saya mengerti Anda meminta informasi tentang planet.  Apakah Anda ingin saya memberi tahu Anda tentang planet tertentu, atau tentang sistem tata surya secara umum?  Beri tahu saya apa yang ingin Anda ketahui tentang planet.\n",
            "\n",
            "----------\n",
            "Kamu: g.\n",
            "🤖 Asisten: Maaf, saya tidak mengerti apa yang dimaksud dengan \"g\". Bisakah Anda memberikan pertanyaan atau permintaan yang lebih spesifik?\n",
            "\n",
            "----------\n"
          ]
        }
      ],
      "source": [
        "# Jalankan aplikasi chat\n",
        "if chat:\n",
        "    jalankan_chat()\n",
        "else:\n",
        "    print(\"API-Null.\")"
      ]
    }
  ],
  "metadata": {
    "language_info": {
      "name": "python"
    },
    "colab": {
      "provenance": [],
      "toc_visible": true
    },
    "kernelspec": {
      "name": "python3",
      "display_name": "Python 3"
    }
  },
  "nbformat": 4,
  "nbformat_minor": 0
}