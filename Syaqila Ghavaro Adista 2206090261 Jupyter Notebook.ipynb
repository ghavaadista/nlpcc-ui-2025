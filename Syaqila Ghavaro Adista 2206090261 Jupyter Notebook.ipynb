{
 "cells": [
  {
   "cell_type": "code",
   "execution_count": 3,
   "id": "ee42c94f-a48d-44eb-80d9-2768481990a0",
   "metadata": {},
   "outputs": [
    {
     "name": "stdout",
     "output_type": "stream",
     "text": [
      "Requirement already satisfied: pandas in c:\\users\\ghava\\miniconda3\\lib\\site-packages (2.2.3)\n",
      "Requirement already satisfied: numpy>=1.26.0 in c:\\users\\ghava\\miniconda3\\lib\\site-packages (from pandas) (2.2.5)\n",
      "Requirement already satisfied: python-dateutil>=2.8.2 in c:\\users\\ghava\\miniconda3\\lib\\site-packages (from pandas) (2.9.0.post0)\n",
      "Requirement already satisfied: pytz>=2020.1 in c:\\users\\ghava\\miniconda3\\lib\\site-packages (from pandas) (2025.2)\n",
      "Requirement already satisfied: tzdata>=2022.7 in c:\\users\\ghava\\miniconda3\\lib\\site-packages (from pandas) (2025.2)\n",
      "Requirement already satisfied: six>=1.5 in c:\\users\\ghava\\miniconda3\\lib\\site-packages (from python-dateutil>=2.8.2->pandas) (1.17.0)\n"
     ]
    }
   ],
   "source": [
    "!pip install pandas"
   ]
  },
  {
   "cell_type": "code",
   "execution_count": 6,
   "id": "762d4a84-89da-460d-9438-85ee2ece89b1",
   "metadata": {},
   "outputs": [
    {
     "ename": "ModuleNotFoundError",
     "evalue": "No module named 'pandas'",
     "output_type": "error",
     "traceback": [
      "\u001b[31m---------------------------------------------------------------------------\u001b[39m",
      "\u001b[31mModuleNotFoundError\u001b[39m                       Traceback (most recent call last)",
      "\u001b[36mCell\u001b[39m\u001b[36m \u001b[39m\u001b[32mIn[6]\u001b[39m\u001b[32m, line 1\u001b[39m\n\u001b[32m----> \u001b[39m\u001b[32m1\u001b[39m \u001b[38;5;28;01mimport\u001b[39;00m\u001b[38;5;250m \u001b[39m\u001b[34;01mpandas\u001b[39;00m\u001b[38;5;250m \u001b[39m\u001b[38;5;28;01mas\u001b[39;00m\u001b[38;5;250m \u001b[39m\u001b[34;01mpd\u001b[39;00m\n",
      "\u001b[31mModuleNotFoundError\u001b[39m: No module named 'pandas'"
     ]
    }
   ],
   "source": [
    "import pandas as pd"
   ]
  },
  {
   "cell_type": "code",
   "execution_count": 7,
   "id": "84fe567f-7720-4984-bf83-bdbba9d8190a",
   "metadata": {},
   "outputs": [
    {
     "name": "stdout",
     "output_type": "stream",
     "text": [
      "Requirement already satisfied: pandas in c:\\users\\ghava\\miniconda3\\lib\\site-packages (2.2.3)\n",
      "Requirement already satisfied: numpy>=1.26.0 in c:\\users\\ghava\\miniconda3\\lib\\site-packages (from pandas) (2.2.5)\n",
      "Requirement already satisfied: python-dateutil>=2.8.2 in c:\\users\\ghava\\miniconda3\\lib\\site-packages (from pandas) (2.9.0.post0)\n",
      "Requirement already satisfied: pytz>=2020.1 in c:\\users\\ghava\\miniconda3\\lib\\site-packages (from pandas) (2025.2)\n",
      "Requirement already satisfied: tzdata>=2022.7 in c:\\users\\ghava\\miniconda3\\lib\\site-packages (from pandas) (2025.2)\n",
      "Requirement already satisfied: six>=1.5 in c:\\users\\ghava\\miniconda3\\lib\\site-packages (from python-dateutil>=2.8.2->pandas) (1.17.0)\n"
     ]
    }
   ],
   "source": [
    "!pip install pandas\n"
   ]
  },
  {
   "cell_type": "code",
   "execution_count": 8,
   "id": "f22ebb86-38c2-400d-a3b5-398273b7ce71",
   "metadata": {},
   "outputs": [
    {
     "name": "stdout",
     "output_type": "stream",
     "text": [
      "C:\\Users\\ghava\\AppData\\Local\\Programs\\Python\\Python313\\python.exe\n"
     ]
    }
   ],
   "source": [
    "import sys\n",
    "print(sys.executable)\n"
   ]
  },
  {
   "cell_type": "code",
   "execution_count": 10,
   "id": "51ac7b33-208e-4183-a8b2-ecbfba6dead9",
   "metadata": {},
   "outputs": [
    {
     "ename": "ModuleNotFoundError",
     "evalue": "No module named 'pandas'",
     "output_type": "error",
     "traceback": [
      "\u001b[31m---------------------------------------------------------------------------\u001b[39m",
      "\u001b[31mModuleNotFoundError\u001b[39m                       Traceback (most recent call last)",
      "\u001b[36mCell\u001b[39m\u001b[36m \u001b[39m\u001b[32mIn[10]\u001b[39m\u001b[32m, line 1\u001b[39m\n\u001b[32m----> \u001b[39m\u001b[32m1\u001b[39m \u001b[38;5;28;01mimport\u001b[39;00m\u001b[38;5;250m \u001b[39m\u001b[34;01mpandas\u001b[39;00m\u001b[38;5;250m \u001b[39m\u001b[38;5;28;01mas\u001b[39;00m\u001b[38;5;250m \u001b[39m\u001b[34;01mpd\u001b[39;00m\n",
      "\u001b[31mModuleNotFoundError\u001b[39m: No module named 'pandas'"
     ]
    }
   ],
   "source": [
    "import pandas as pd"
   ]
  },
  {
   "cell_type": "code",
   "execution_count": 11,
   "id": "05871e2a-0055-4b55-83d9-97c63454d0e7",
   "metadata": {},
   "outputs": [
    {
     "ename": "ModuleNotFoundError",
     "evalue": "No module named 'pandas'",
     "output_type": "error",
     "traceback": [
      "\u001b[31m---------------------------------------------------------------------------\u001b[39m",
      "\u001b[31mModuleNotFoundError\u001b[39m                       Traceback (most recent call last)",
      "\u001b[36mCell\u001b[39m\u001b[36m \u001b[39m\u001b[32mIn[11]\u001b[39m\u001b[32m, line 1\u001b[39m\n\u001b[32m----> \u001b[39m\u001b[32m1\u001b[39m \u001b[38;5;28;01mimport\u001b[39;00m\u001b[38;5;250m \u001b[39m\u001b[34;01mpandas\u001b[39;00m\u001b[38;5;250m \u001b[39m\u001b[38;5;28;01mas\u001b[39;00m\u001b[38;5;250m \u001b[39m\u001b[34;01mpd\u001b[39;00m\n",
      "\u001b[31mModuleNotFoundError\u001b[39m: No module named 'pandas'"
     ]
    }
   ],
   "source": [
    "import pandas as pd"
   ]
  },
  {
   "cell_type": "code",
   "execution_count": 12,
   "id": "a9a70510-6460-4f79-b3a2-86daa89ae673",
   "metadata": {},
   "outputs": [
    {
     "name": "stdout",
     "output_type": "stream",
     "text": [
      "C:\\Users\\ghava\\AppData\\Local\\Programs\\Python\\Python313\\python.exe\n"
     ]
    }
   ],
   "source": [
    "import sys\n",
    "print(sys.executable)"
   ]
  },
  {
   "cell_type": "code",
   "execution_count": 13,
   "id": "ec21b3aa-9749-45d1-a9d7-793e7771e79e",
   "metadata": {},
   "outputs": [
    {
     "ename": "ModuleNotFoundError",
     "evalue": "No module named 'pandas'",
     "output_type": "error",
     "traceback": [
      "\u001b[31m---------------------------------------------------------------------------\u001b[39m",
      "\u001b[31mModuleNotFoundError\u001b[39m                       Traceback (most recent call last)",
      "\u001b[36mCell\u001b[39m\u001b[36m \u001b[39m\u001b[32mIn[13]\u001b[39m\u001b[32m, line 2\u001b[39m\n\u001b[32m      1\u001b[39m \u001b[38;5;28;01mimport\u001b[39;00m\u001b[38;5;250m \u001b[39m\u001b[34;01mre\u001b[39;00m\n\u001b[32m----> \u001b[39m\u001b[32m2\u001b[39m \u001b[38;5;28;01mimport\u001b[39;00m\u001b[38;5;250m \u001b[39m\u001b[34;01mpandas\u001b[39;00m\u001b[38;5;250m \u001b[39m\u001b[38;5;28;01mas\u001b[39;00m\u001b[38;5;250m \u001b[39m\u001b[34;01mpd\u001b[39;00m\n",
      "\u001b[31mModuleNotFoundError\u001b[39m: No module named 'pandas'"
     ]
    }
   ],
   "source": [
    "import re\n",
    "import pandas as pd"
   ]
  },
  {
   "cell_type": "code",
   "execution_count": 14,
   "id": "81c9dc51-e037-4ff1-af21-a40074a8b9c1",
   "metadata": {},
   "outputs": [
    {
     "name": "stdout",
     "output_type": "stream",
     "text": [
      "Requirement already satisfied: pandas in c:\\users\\ghava\\miniconda3\\lib\\site-packages (2.2.3)\n",
      "Requirement already satisfied: numpy>=1.26.0 in c:\\users\\ghava\\miniconda3\\lib\\site-packages (from pandas) (2.2.5)\n",
      "Requirement already satisfied: python-dateutil>=2.8.2 in c:\\users\\ghava\\miniconda3\\lib\\site-packages (from pandas) (2.9.0.post0)\n",
      "Requirement already satisfied: pytz>=2020.1 in c:\\users\\ghava\\miniconda3\\lib\\site-packages (from pandas) (2025.2)\n",
      "Requirement already satisfied: tzdata>=2022.7 in c:\\users\\ghava\\miniconda3\\lib\\site-packages (from pandas) (2025.2)\n",
      "Requirement already satisfied: six>=1.5 in c:\\users\\ghava\\miniconda3\\lib\\site-packages (from python-dateutil>=2.8.2->pandas) (1.17.0)\n"
     ]
    }
   ],
   "source": [
    "!pip install pandas"
   ]
  },
  {
   "cell_type": "code",
   "execution_count": 15,
   "id": "5c342cef-492b-442f-bbd9-2d66286ced76",
   "metadata": {},
   "outputs": [],
   "source": [
    "import re"
   ]
  },
  {
   "cell_type": "code",
   "execution_count": 16,
   "id": "24ac20fe-cd91-4cba-957b-fa120e90ca0a",
   "metadata": {},
   "outputs": [
    {
     "ename": "ModuleNotFoundError",
     "evalue": "No module named 'pandas'",
     "output_type": "error",
     "traceback": [
      "\u001b[31m---------------------------------------------------------------------------\u001b[39m",
      "\u001b[31mModuleNotFoundError\u001b[39m                       Traceback (most recent call last)",
      "\u001b[36mCell\u001b[39m\u001b[36m \u001b[39m\u001b[32mIn[16]\u001b[39m\u001b[32m, line 1\u001b[39m\n\u001b[32m----> \u001b[39m\u001b[32m1\u001b[39m \u001b[38;5;28;01mimport\u001b[39;00m\u001b[38;5;250m \u001b[39m\u001b[34;01mpandas\u001b[39;00m\u001b[38;5;250m \u001b[39m\u001b[38;5;28;01mas\u001b[39;00m\u001b[38;5;250m \u001b[39m\u001b[34;01mpd\u001b[39;00m\n",
      "\u001b[31mModuleNotFoundError\u001b[39m: No module named 'pandas'"
     ]
    }
   ],
   "source": [
    "import pandas as pd"
   ]
  },
  {
   "cell_type": "code",
   "execution_count": 17,
   "id": "73e1c558-fe7f-4686-ad27-263121ed932d",
   "metadata": {},
   "outputs": [
    {
     "ename": "ModuleNotFoundError",
     "evalue": "No module named 'pandas'",
     "output_type": "error",
     "traceback": [
      "\u001b[31m---------------------------------------------------------------------------\u001b[39m",
      "\u001b[31mModuleNotFoundError\u001b[39m                       Traceback (most recent call last)",
      "\u001b[36mCell\u001b[39m\u001b[36m \u001b[39m\u001b[32mIn[17]\u001b[39m\u001b[32m, line 2\u001b[39m\n\u001b[32m      1\u001b[39m \u001b[38;5;28;01mimport\u001b[39;00m\u001b[38;5;250m \u001b[39m\u001b[34;01mre\u001b[39;00m\n\u001b[32m----> \u001b[39m\u001b[32m2\u001b[39m \u001b[38;5;28;01mimport\u001b[39;00m\u001b[38;5;250m \u001b[39m\u001b[34;01mpandas\u001b[39;00m\u001b[38;5;250m \u001b[39m\u001b[38;5;28;01mas\u001b[39;00m\u001b[38;5;250m \u001b[39m\u001b[34;01mpd\u001b[39;00m\n",
      "\u001b[31mModuleNotFoundError\u001b[39m: No module named 'pandas'"
     ]
    }
   ],
   "source": [
    "import re\n",
    "import pandas as pd"
   ]
  },
  {
   "cell_type": "code",
   "execution_count": 18,
   "id": "25361ede-3c2a-4269-83da-e11cd9c15998",
   "metadata": {},
   "outputs": [
    {
     "name": "stdout",
     "output_type": "stream",
     "text": [
      "C:\\Users\\ghava\\AppData\\Local\\Programs\\Python\\Python313\\python.exe\n"
     ]
    }
   ],
   "source": [
    "import sys\n",
    "print(sys.executable)"
   ]
  },
  {
   "cell_type": "code",
   "execution_count": 19,
   "id": "0ef8dbbe-f27e-4265-aba3-86feb5fbc401",
   "metadata": {},
   "outputs": [
    {
     "name": "stdout",
     "output_type": "stream",
     "text": [
      "Note: you may need to restart the kernel to use updated packages.\n"
     ]
    },
    {
     "name": "stderr",
     "output_type": "stream",
     "text": [
      "WARNING: Package(s) not found: pandas\n"
     ]
    }
   ],
   "source": [
    "pip show pandas"
   ]
  },
  {
   "cell_type": "code",
   "execution_count": 22,
   "id": "5bcc7834-d2d4-4dc4-baaf-dc523ed4a034",
   "metadata": {},
   "outputs": [
    {
     "name": "stdout",
     "output_type": "stream",
     "text": [
      "Requirement already satisfied: pandas in c:\\users\\ghava\\appdata\\local\\programs\\python\\python313\\lib\\site-packages (2.2.3)\n",
      "Requirement already satisfied: numpy>=1.26.0 in c:\\users\\ghava\\appdata\\local\\programs\\python\\python313\\lib\\site-packages (from pandas) (2.2.5)\n",
      "Requirement already satisfied: python-dateutil>=2.8.2 in c:\\users\\ghava\\appdata\\local\\programs\\python\\python313\\lib\\site-packages (from pandas) (2.9.0.post0)\n",
      "Requirement already satisfied: pytz>=2020.1 in c:\\users\\ghava\\appdata\\local\\programs\\python\\python313\\lib\\site-packages (from pandas) (2025.2)\n",
      "Requirement already satisfied: tzdata>=2022.7 in c:\\users\\ghava\\appdata\\local\\programs\\python\\python313\\lib\\site-packages (from pandas) (2025.2)\n",
      "Requirement already satisfied: six>=1.5 in c:\\users\\ghava\\appdata\\local\\programs\\python\\python313\\lib\\site-packages (from python-dateutil>=2.8.2->pandas) (1.17.0)\n"
     ]
    },
    {
     "name": "stderr",
     "output_type": "stream",
     "text": [
      "\n",
      "[notice] A new release of pip is available: 25.0.1 -> 25.1.1\n",
      "[notice] To update, run: C:\\Users\\ghava\\AppData\\Local\\Programs\\Python\\Python313\\python.exe -m pip install --upgrade pip\n"
     ]
    }
   ],
   "source": [
    "import sys\n",
    "!{sys.executable} -m pip install pandas"
   ]
  },
  {
   "cell_type": "code",
   "execution_count": 23,
   "id": "3452e620-17fa-4cbc-ae3c-d21dfd916be7",
   "metadata": {},
   "outputs": [],
   "source": [
    "import pandas as pd"
   ]
  },
  {
   "cell_type": "code",
   "execution_count": 27,
   "id": "539f0e40-824b-42b9-8d67-bf22e9299336",
   "metadata": {},
   "outputs": [],
   "source": [
    "file_path = 'C:/Users/ghava/Downloads/covid_tweets (1)/TRANSLATED-covid-sentiment.csv'\n",
    "df = pd.read_csv(file_path)"
   ]
  },
  {
   "cell_type": "code",
   "execution_count": 29,
   "id": "0b92a848-1561-4016-86cb-ac062a7b83b2",
   "metadata": {},
   "outputs": [
    {
     "name": "stdout",
     "output_type": "stream",
     "text": [
      "Tipe data df: <class 'pandas.core.frame.DataFrame'>\n",
      "Jumlah baris dan kolom df: (36929, 12)\n",
      "Index(['conversation_id', 'date', 'time', 'user_id', 'username', 'tweet',\n",
      "       'mentions', 'replies_count', 'retweets_count', 'likes_count',\n",
      "       'hashtags', 'translated'],\n",
      "      dtype='object')\n"
     ]
    }
   ],
   "source": [
    "file_path = 'C:/Users/ghava/Downloads/TRANSLATED-covid-sentiment.csv'\n",
    "df = pd.read_csv(file_path)\n",
    "print(f\"Tipe data df: {type(df)}\")\n",
    "print(f\"Jumlah baris dan kolom df: {df.shape}\")\n",
    "print(df.columns)"
   ]
  },
  {
   "cell_type": "code",
   "execution_count": 30,
   "id": "ebed8710-cd22-4462-a6ad-3ad64fe99d0d",
   "metadata": {},
   "outputs": [
    {
     "name": "stdout",
     "output_type": "stream",
     "text": [
      "\n",
      "--- Tujuan 1: Mencari semua URL ---\n",
      "\n",
      "Pola 1 (Sederhana):\n",
      "  Baris 1: []\n",
      "  Baris 2: []\n",
      "  Baris 3: []\n",
      "  Baris 4: []\n",
      "  Baris 5: []\n",
      "\n",
      "Pola 2 (Lebih spesifik, termasuk www):\n",
      "  Baris 1: []\n",
      "  Baris 2: []\n",
      "  Baris 3: []\n",
      "  Baris 4: []\n",
      "  Baris 5: []\n",
      "\n",
      "Pola 3 (Lebih canggih, menangkap domain & path):\n",
      "  Baris 1: []\n",
      "  Baris 2: []\n",
      "  Baris 3: []\n",
      "  Baris 4: []\n",
      "  Baris 5: []\n",
      "\n",
      "--- Penjelasan Tujuan 1 ---\n",
      "\n",
      "Pola 1 adalah yang paling sederhana, mencari protokol http atau https diikuti oleh serangkaian karakter non-spasi.\n",
      "Pola 2 mencoba memperluas dengan memasukkan kemungkinan adanya 'www.' di awal dan memastikan ada setidaknya satu titik (.) diikuti oleh karakter non-spasi setelahnya.\n",
      "Pola 3 adalah pola yang lebih kompleks yang mencoba mencakup berbagai karakter yang mungkin ada dalam URL, termasuk domain, path, dan parameter. Namun, pola regex untuk URL bisa sangat rumit dan ini mungkin belum mencakup semua kemungkinan.\n"
     ]
    }
   ],
   "source": [
    "import re\n",
    "import pandas as pd\n",
    "\n",
    "# Asumsi Anda sudah berhasil membaca file CSV dan DataFrame 'df' sudah tersedia\n",
    "# Jika belum, pastikan Anda menjalankan kembali langkah membaca file:\n",
    "# file_path = 'C:/Users/ghava/Downloads/TRANSLATED-covid-sentiment.csv'\n",
    "# df = pd.read_csv(file_path)\n",
    "\n",
    "teks = df['translated'].astype(str) # Pastikan kita bekerja dengan kolom teks 'translated'\n",
    "\n",
    "# Tujuan 1: Mencari semua URL yang terdapat dalam tweet.\n",
    "print(\"\\n--- Tujuan 1: Mencari semua URL ---\")\n",
    "\n",
    "# Pola 1 (Sederhana): Mencari http:// atau https:// diikuti karakter non-spasi\n",
    "pola1_url = r\"https?:\\/\\/\\S+\"\n",
    "hasil1_url = teks.str.findall(pola1_url)\n",
    "print(\"\\nPola 1 (Sederhana):\")\n",
    "for i in range(min(5, len(hasil1_url))):\n",
    "    print(f\"  Baris {i+1}: {hasil1_url.iloc[i]}\")\n",
    "\n",
    "# Pola 2 (Lebih spesifik): Memperluas untuk menangkap www juga (tanpa http(s))\n",
    "pola2_url = r\"(?:https?:\\/\\/)?(?:www\\.)?\\S+\\.\\S+\"\n",
    "hasil2_url = teks.str.findall(pola2_url)\n",
    "print(\"\\nPola 2 (Lebih spesifik, termasuk www):\")\n",
    "for i in range(min(5, len(hasil2_url))):\n",
    "    print(f\"  Baris {i+1}: {hasil2_url.iloc[i]}\")\n",
    "\n",
    "# Pola 3 (Lebih canggih): Mencoba menangkap berbagai domain dan path yang umum\n",
    "pola3_url = r\"(?:https?:\\/\\/)?(?:www\\.)?[-a-zA-Z0-9@:%._\\+~#=]{1,256}\\.[a-zA-Z0-9()]{1,6}\\b(?:[-a-zA-Z0-9()@:%_\\+.~#?&//=]*)\"\n",
    "hasil3_url = teks.str.findall(pola3_url)\n",
    "print(\"\\nPola 3 (Lebih canggih, menangkap domain & path):\")\n",
    "for i in range(min(5, len(hasil3_url))):\n",
    "    print(f\"  Baris {i+1}: {hasil3_url.iloc[i]}\")\n",
    "\n",
    "print(\"\\n--- Penjelasan Tujuan 1 ---\")\n",
    "print(\"\\nPola 1 adalah yang paling sederhana, mencari protokol http atau https diikuti oleh serangkaian karakter non-spasi.\")\n",
    "print(\"Pola 2 mencoba memperluas dengan memasukkan kemungkinan adanya 'www.' di awal dan memastikan ada setidaknya satu titik (.) diikuti oleh karakter non-spasi setelahnya.\")\n",
    "print(\"Pola 3 adalah pola yang lebih kompleks yang mencoba mencakup berbagai karakter yang mungkin ada dalam URL, termasuk domain, path, dan parameter. Namun, pola regex untuk URL bisa sangat rumit dan ini mungkin belum mencakup semua kemungkinan.\")"
   ]
  },
  {
   "cell_type": "code",
   "execution_count": 31,
   "id": "67851ffd-4443-450f-a3cf-590b2b46c691",
   "metadata": {},
   "outputs": [
    {
     "name": "stdout",
     "output_type": "stream",
     "text": [
      "0    the lampung government aid the swift student d...\n",
      "1    the government implements herd immunity, the c...\n",
      "2    do break fasting meals 10 families affected by...\n",
      "3    positive citizen corona regent conditions dema...\n",
      "4    very emotional, conditions were told to cover ...\n",
      "5    anticipation of the spread of the pandemic 19 ...\n",
      "6    bang the government cares about the people's r...\n",
      "7    covid latest updates 19 thursday 07 05 2020 so...\n",
      "8    pie finance minister sri mulyani provincial go...\n",
      "9    say lucky thousands of dead registered covid v...\n",
      "Name: translated, dtype: object\n"
     ]
    }
   ],
   "source": [
    "print(df['translated'].head(10))"
   ]
  },
  {
   "cell_type": "code",
   "execution_count": 32,
   "id": "22ec2e01-fb78-46d7-8415-944bc189fad6",
   "metadata": {},
   "outputs": [
    {
     "name": "stdout",
     "output_type": "stream",
     "text": [
      "\n",
      "--- Tujuan 2: Mencari angka diikuti 'people', 'cases', atau 'deaths' ---\n",
      "\n",
      "Pola 1 (Sederhana, case-insensitive):\n",
      "  Baris 1: []\n",
      "  Baris 2: []\n",
      "  Baris 3: []\n",
      "  Baris 4: []\n",
      "  Baris 5: []\n"
     ]
    }
   ],
   "source": [
    "pola1_angka_kata = r\"\\d+ (people|cases|deaths)\"\n",
    "hasil1_angka_kata = teks.str.findall(pola1_angka_kata, flags=re.IGNORECASE)\n",
    "\n",
    "print(\"\\n--- Tujuan 2: Mencari angka diikuti 'people', 'cases', atau 'deaths' ---\")\n",
    "print(\"\\nPola 1 (Sederhana, case-insensitive):\")\n",
    "for i in range(min(5, len(hasil1_angka_kata))):\n",
    "    print(f\"  Baris {i+1}: {hasil1_angka_kata.iloc[i]}\")"
   ]
  },
  {
   "cell_type": "code",
   "execution_count": 33,
   "id": "15f1163f-fb0d-4f14-9cf4-14afbe6f8456",
   "metadata": {},
   "outputs": [
    {
     "name": "stdout",
     "output_type": "stream",
     "text": [
      "\n",
      "Pola 2 (Memperbolehkan pemisah ribuan):\n",
      "  Baris 1: []\n",
      "  Baris 2: []\n",
      "  Baris 3: []\n",
      "  Baris 4: []\n",
      "  Baris 5: []\n"
     ]
    }
   ],
   "source": [
    "pola2_angka_kata = r\"\\d{1,3}(?:[,.]\\d{3})* (people|cases|deaths)\"\n",
    "hasil2_angka_kata = teks.str.findall(pola2_angka_kata, flags=re.IGNORECASE)\n",
    "\n",
    "print(\"\\nPola 2 (Memperbolehkan pemisah ribuan):\")\n",
    "for i in range(min(5, len(hasil2_angka_kata))):\n",
    "    print(f\"  Baris {i+1}: {hasil2_angka_kata.iloc[i]}\")"
   ]
  },
  {
   "cell_type": "code",
   "execution_count": 34,
   "id": "fe823a95-d173-49c9-b812-947e812067fc",
   "metadata": {},
   "outputs": [
    {
     "name": "stdout",
     "output_type": "stream",
     "text": [
      "\n",
      "Pola 3 (Memperbolehkan kata lain di antara angka dan kata kunci):\n",
      "  Baris 1: []\n",
      "  Baris 2: []\n",
      "  Baris 3: []\n",
      "  Baris 4: []\n",
      "  Baris 5: []\n"
     ]
    }
   ],
   "source": [
    "pola3_angka_kata = r\"\\d+\\s+\\w+\\s+(people|cases|deaths)\"\n",
    "hasil3_angka_kata = teks.str.findall(pola3_angka_kata, flags=re.IGNORECASE)\n",
    "\n",
    "print(\"\\nPola 3 (Memperbolehkan kata lain di antara angka dan kata kunci):\")\n",
    "for i in range(min(5, len(hasil3_angka_kata))):\n",
    "    print(f\"  Baris {i+1}: {hasil3_angka_kata.iloc[i]}\")"
   ]
  },
  {
   "cell_type": "code",
   "execution_count": 35,
   "id": "01064e2b-2ee0-410d-9c56-334443af4ccc",
   "metadata": {},
   "outputs": [
    {
     "name": "stdout",
     "output_type": "stream",
     "text": [
      "\n",
      "--- Tujuan 3: Mencari kata-kata keraguan atau ketidakpastian ---\n",
      "\n",
      "Pola 1 (Sederhana, case-insensitive):\n",
      "  Baris 1: []\n",
      "  Baris 2: []\n",
      "  Baris 3: []\n",
      "  Baris 4: []\n",
      "  Baris 5: []\n"
     ]
    }
   ],
   "source": [
    "pola1_ragu = r\"(maybe|could be|uncertain|perhaps)\"\n",
    "hasil1_ragu = teks.str.findall(pola1_ragu, flags=re.IGNORECASE)\n",
    "\n",
    "print(\"\\n--- Tujuan 3: Mencari kata-kata keraguan atau ketidakpastian ---\")\n",
    "print(\"\\nPola 1 (Sederhana, case-insensitive):\")\n",
    "for i in range(min(5, len(hasil1_ragu))):\n",
    "    print(f\"  Baris {i+1}: {hasil1_ragu.iloc[i]}\")"
   ]
  },
  {
   "cell_type": "code",
   "execution_count": 36,
   "id": "ac66de7a-b706-497e-b840-2de7e43c4a1b",
   "metadata": {},
   "outputs": [
    {
     "name": "stdout",
     "output_type": "stream",
     "text": [
      "\n",
      "Pola 2 (Mencari kalimat yang mengandung kata keraguan):\n"
     ]
    }
   ],
   "source": [
    "def cari_keraguan(text, pola):\n",
    "    hasil = []\n",
    "    for t in text:\n",
    "        if re.search(pola, t, re.IGNORECASE):\n",
    "            hasil.append(t)\n",
    "    return hasil\n",
    "\n",
    "pola2_ragu = r\"(maybe|could be|uncertain|perhaps)\"\n",
    "hasil2_ragu = cari_keraguan(teks.head(), pola2_ragu) # Hanya cek 5 baris pertama\n",
    "\n",
    "print(\"\\nPola 2 (Mencari kalimat yang mengandung kata keraguan):\")\n",
    "for i, kalimat in enumerate(hasil2_ragu):\n",
    "    print(f\"  Baris {i+1}: {kalimat}\")"
   ]
  },
  {
   "cell_type": "code",
   "execution_count": 37,
   "id": "0334054b-ebfc-4bae-9438-17e5a027ff9c",
   "metadata": {},
   "outputs": [
    {
     "name": "stdout",
     "output_type": "stream",
     "text": [
      "\n",
      "--- Tujuan 4: Mencari pola waktu (HH:MM) ---\n",
      "\n",
      "Pola 1 (Format 24 jam):\n",
      "  Baris 1: []\n",
      "  Baris 2: []\n",
      "  Baris 3: []\n",
      "  Baris 4: []\n",
      "  Baris 5: []\n"
     ]
    }
   ],
   "source": [
    "pola1_waktu = r\"\\b([01]?[0-9]|2[0-3]):[0-5][0-9]\\b\"\n",
    "hasil1_waktu = teks.str.findall(pola1_waktu)\n",
    "\n",
    "print(\"\\n--- Tujuan 4: Mencari pola waktu (HH:MM) ---\")\n",
    "print(\"\\nPola 1 (Format 24 jam):\")\n",
    "for i in range(min(5, len(hasil1_waktu))):\n",
    "    print(f\"  Baris {i+1}: {hasil1_waktu.iloc[i]}\")"
   ]
  },
  {
   "cell_type": "code",
   "execution_count": 38,
   "id": "0c28dded-c7ba-4888-abad-ab1fdd3f0192",
   "metadata": {},
   "outputs": [
    {
     "name": "stdout",
     "output_type": "stream",
     "text": [
      "\n",
      "--- Tujuan 5: Mencari 'government'/'Govt' diikuti kata kerja negatif ---\n",
      "\n",
      "Pola 1 (Sederhana, case-insensitive):\n",
      "  Baris 1: []\n",
      "  Baris 2: []\n",
      "  Baris 3: []\n",
      "  Baris 4: []\n",
      "  Baris 5: []\n"
     ]
    }
   ],
   "source": [
    "pola1_gov_negatif = r\"(government|Govt)\\s+(failed|ignoring|slow)\"\n",
    "hasil1_gov_negatif = teks.str.findall(pola1_gov_negatif, flags=re.IGNORECASE)\n",
    "\n",
    "print(\"\\n--- Tujuan 5: Mencari 'government'/'Govt' diikuti kata kerja negatif ---\")\n",
    "print(\"\\nPola 1 (Sederhana, case-insensitive):\")\n",
    "for i in range(min(5, len(hasil1_gov_negatif))):\n",
    "    print(f\"  Baris {i+1}: {hasil1_gov_negatif.iloc[i]}\")"
   ]
  },
  {
   "cell_type": "code",
   "execution_count": 39,
   "id": "1ef1d7f8-736e-424e-ab39-409a082aae25",
   "metadata": {},
   "outputs": [
    {
     "name": "stdout",
     "output_type": "stream",
     "text": [
      "\n",
      "Hasil Pencarian Kata Ragu (100 Baris Pertama):\n"
     ]
    }
   ],
   "source": [
    "hasil_ragu_100 = teks.head(100).str.findall(r\"(maybe|could be|uncertain|perhaps)\", flags=re.IGNORECASE)\n",
    "\n",
    "print(\"\\nHasil Pencarian Kata Ragu (100 Baris Pertama):\")\n",
    "for i in range(len(hasil_ragu_100)):\n",
    "    if hasil_ragu_100.iloc[i]:\n",
    "        print(f\"  Baris {i+1}: {hasil_ragu_100.iloc[i]}\")"
   ]
  },
  {
   "cell_type": "code",
   "execution_count": 40,
   "id": "f416bf97-3b0a-4b22-a7a4-f00f66ff80b5",
   "metadata": {},
   "outputs": [
    {
     "name": "stdout",
     "output_type": "stream",
     "text": [
      "\n",
      "Pola 2 (Lebih luas untuk kata keraguan - 100 Baris Pertama):\n",
      "  Baris 45: [('appears', '', 's')]\n"
     ]
    }
   ],
   "source": [
    "pola2_ragu_luas = r\"(maybe|could be|uncertain|perhaps|possibly|likely|seem(s|ing)?|appear(s|ing)?)\"\n",
    "hasil2_ragu_luas = teks.head(100).str.findall(pola2_ragu_luas, flags=re.IGNORECASE)\n",
    "\n",
    "print(\"\\nPola 2 (Lebih luas untuk kata keraguan - 100 Baris Pertama):\")\n",
    "for i in range(len(hasil2_ragu_luas)):\n",
    "    if hasil2_ragu_luas.iloc[i]:\n",
    "        print(f\"  Baris {i+1}: {hasil2_ragu_luas.iloc[i]}\")"
   ]
  },
  {
   "cell_type": "code",
   "execution_count": 41,
   "id": "6bb4f54a-b6a4-43c5-a1b1-daba416d0a19",
   "metadata": {},
   "outputs": [
    {
     "name": "stdout",
     "output_type": "stream",
     "text": [
      "\n",
      "Hasil Pencarian Waktu (24 Jam - 100 Baris Pertama):\n",
      "\n",
      "Hasil Pencarian Waktu (12 Jam AM/PM - 100 Baris Pertama):\n"
     ]
    }
   ],
   "source": [
    "# Pola 1 (Format 24 jam - HH:MM) pada 100 baris pertama\n",
    "pola1_waktu_100 = r\"\\b([01]?[0-9]|2[0-3]):[0-5][0-9]\\b\"\n",
    "hasil1_waktu_100 = teks.head(100).str.findall(pola1_waktu_100)\n",
    "print(\"\\nHasil Pencarian Waktu (24 Jam - 100 Baris Pertama):\")\n",
    "for i in range(len(hasil1_waktu_100)):\n",
    "    if hasil1_waktu_100.iloc[i]:\n",
    "        print(f\"  Baris {i+1}: {hasil1_waktu_100.iloc[i]}\")\n",
    "\n",
    "# Pola 2 (Format 12 jam - HH:MM AM/PM) pada 100 baris pertama\n",
    "pola2_waktu_100 = r\"\\b(0?[1-9]|1[0-2]):[0-5][0-9]\\s?(?:AM|PM)\\b\"\n",
    "hasil2_waktu_100 = teks.head(100).str.findall(pola2_waktu_100, flags=re.IGNORECASE)\n",
    "print(\"\\nHasil Pencarian Waktu (12 Jam AM/PM - 100 Baris Pertama):\")\n",
    "for i in range(len(hasil2_waktu_100)):\n",
    "    if hasil2_waktu_100.iloc[i]:\n",
    "        print(f\"  Baris {i+1}: {hasil2_waktu_100.iloc[i]}\")"
   ]
  },
  {
   "cell_type": "code",
   "execution_count": 42,
   "id": "67165aad-6d33-446d-b883-5a67b22e5171",
   "metadata": {},
   "outputs": [
    {
     "name": "stdout",
     "output_type": "stream",
     "text": [
      "\n",
      "Pola 4 (Mencari pola domain umum - 100 Baris Pertama):\n"
     ]
    }
   ],
   "source": [
    "pola4_url_umum = r\"(?:https?:\\/\\/)?(?:www\\.)?[-a-zA-Z0-9@:%._\\+~#=]{1,256}\\.[a-zA-Z0-9()]{1,6}(?:[-a-zA-Z0-9()@:%_\\+.~#?&//=]*)?\"\n",
    "hasil4_url_umum = teks.head(100).str.findall(pola4_url_umum)\n",
    "\n",
    "print(\"\\nPola 4 (Mencari pola domain umum - 100 Baris Pertama):\")\n",
    "for i in range(len(hasil4_url_umum)):\n",
    "    if hasil4_url_umum.iloc[i]:\n",
    "        print(f\"  Baris {i+1}: {hasil4_url_umum.iloc[i]}\")"
   ]
  },
  {
   "cell_type": "code",
   "execution_count": 43,
   "id": "4a53be8d-8851-4b27-ac0e-f81c396c97ec",
   "metadata": {},
   "outputs": [
    {
     "name": "stdout",
     "output_type": "stream",
     "text": [
      "\n",
      "Pola 2 (Fleksibel: 'government'/'Govt' diikuti kata lain lalu kata negatif - 100 Baris Pertama):\n",
      "  Baris 79: [('government', 'failed')]\n"
     ]
    }
   ],
   "source": [
    "pola2_gov_negatif_fleksibel = r\"(government|Govt)\\s+\\w+\\s+(failed|ignoring|slow)\"\n",
    "hasil2_gov_negatif_fleksibel = teks.head(100).str.findall(pola2_gov_negatif_fleksibel, flags=re.IGNORECASE)\n",
    "\n",
    "print(\"\\nPola 2 (Fleksibel: 'government'/'Govt' diikuti kata lain lalu kata negatif - 100 Baris Pertama):\")\n",
    "for i in range(len(hasil2_gov_negatif_fleksibel)):\n",
    "    if hasil2_gov_negatif_fleksibel.iloc[i]:\n",
    "        print(f\"  Baris {i+1}: {hasil2_gov_negatif_fleksibel.iloc[i]}\")"
   ]
  },
  {
   "cell_type": "markdown",
   "id": "25ea8e62-1448-4e6e-942b-4e554c98c80e",
   "metadata": {},
   "source": [
    "# Tugas 2: Eksplorasi Data Teks dengan Regular Expressions\n",
    "\n",
    "**Nama:** Syaqila Ghavaro Adista\n",
    "**NIM:** 2206090261\n",
    "\n",
    "## Pendahuluan\n",
    "\n",
    "Notebook ini berisi eksplorasi data teks dari dataset COVID-19 Indonesian Tweets menggunakan regular expressions (regex) dengan library `re` di Python. Tujuan dari tugas ini adalah untuk memahami bagaimana regex dapat digunakan untuk mengidentifikasi pola-pola menarik dalam data teks terkait sentimen dan informasi COVID-19.\n",
    "\n",
    "## Mempersiapkan Lingkungan\n",
    "\n",
    "### Mengimpor Library\n"
   ]
  },
  {
   "cell_type": "code",
   "execution_count": 46,
   "id": "9efd90a6-7c19-4c10-a8b6-2a0e43d64173",
   "metadata": {},
   "outputs": [],
   "source": [
    "import re\n",
    "import pandas as pd"
   ]
  },
  {
   "cell_type": "code",
   "execution_count": 47,
   "id": "c16cad4e-24b4-4573-b89b-de58e2bfcf50",
   "metadata": {},
   "outputs": [
    {
     "name": "stdout",
     "output_type": "stream",
     "text": [
      "       conversation_id        date      time              user_id  \\\n",
      "0  1258425982907637761  2020-05-07  23:58:29           1058474317   \n",
      "1  1258320972198940675  2020-05-07  23:57:30           1179769476   \n",
      "2  1258356644427083777  2020-05-07  23:53:20  1012156669831229441   \n",
      "3  1258424368993931265  2020-05-07  23:52:04  1204303690061844481   \n",
      "4  1258423545698246656  2020-05-07  23:48:48            227620381   \n",
      "\n",
      "        username                                              tweet  \\\n",
      "0   monologis_id  pemerintah lampung bantuan mahasiswa derasnya ...   \n",
      "1        its_dul  pemerintah menerapkan herd immunity kemampuan ...   \n",
      "2     meonkbaong  lakukan makanan berbuka sahur 10 kepala keluar...   \n",
      "3  rakyatdotnews  warga positif corona bupati kondisi menuntut k...   \n",
      "4  annisathalib_  emosi banget kondisi disuruh liputan covid dos...   \n",
      "\n",
      "          mentions  replies_count  retweets_count  likes_count  \\\n",
      "0               []              0               3            0   \n",
      "1  ['mas__piyuuu']              0               0            0   \n",
      "2      ['oiivert']              0               0            0   \n",
      "3               []              0               0            0   \n",
      "4               []              0               0            0   \n",
      "\n",
      "                                            hashtags  \\\n",
      "0                                                 []   \n",
      "1                                                 []   \n",
      "2                                                 []   \n",
      "3  ['#rakyatdotnews', '#referensiterkini', '#raky...   \n",
      "4                                    ['#dirumahaja']   \n",
      "\n",
      "                                          translated  \n",
      "0  the lampung government aid the swift student d...  \n",
      "1  the government implements herd immunity, the c...  \n",
      "2  do break fasting meals 10 families affected by...  \n",
      "3  positive citizen corona regent conditions dema...  \n",
      "4  very emotional, conditions were told to cover ...  \n"
     ]
    }
   ],
   "source": [
    "# Ganti dengan path file Anda (jika perlu)\n",
    "file_path = 'C:/Users/ghava/Downloads/TRANSLATED-covid-sentiment.csv'\n",
    "df = pd.read_csv(file_path)\n",
    "\n",
    "# Melihat beberapa baris pertama data\n",
    "print(df.head())\n",
    "\n",
    "# Mengakses kolom teks yang akan dianalisis\n",
    "teks = df['translated'].astype(str)"
   ]
  },
  {
   "cell_type": "markdown",
   "id": "8323dbbf-9da2-4ce3-be00-9e3491fdec43",
   "metadata": {},
   "source": [
    "## Tujuan 1: Mencari semua URL yang terdapat dalam tweet.\n",
    "\n",
    "Tujuan dari pencarian ini adalah untuk mengidentifikasi semua Uniform Resource Locators (URL) yang terkandung dalam kolom 'translated' dari dataset tweet COVID-19. Menemukan URL dapat membantu kita mengidentifikasi sumber informasi atau tautan yang dibagikan dalam percakapan terkait pandemi."
   ]
  },
  {
   "cell_type": "code",
   "execution_count": 48,
   "id": "4daeb12c-9ef0-49de-ab97-cda64a748f5e",
   "metadata": {},
   "outputs": [
    {
     "name": "stdout",
     "output_type": "stream",
     "text": [
      "\n",
      "Pola 1 (Sederhana):\n",
      "  Baris 1: []\n",
      "  Baris 2: []\n",
      "  Baris 3: []\n",
      "  Baris 4: []\n",
      "  Baris 5: []\n"
     ]
    }
   ],
   "source": [
    "# Pola Regex 1 untuk Tujuan 1 (Sederhana)\n",
    "pola1_url = r\"https?:\\/\\/\\S+\"\n",
    "hasil1_url = teks.str.findall(pola1_url)\n",
    "print(\"\\nPola 1 (Sederhana):\")\n",
    "for i in range(min(5, len(hasil1_url))):\n",
    "    print(f\"  Baris {i+1}: {hasil1_url.iloc[i]}\")"
   ]
  },
  {
   "cell_type": "markdown",
   "id": "ff6657b6-aca5-4fda-8d5c-0166e557733a",
   "metadata": {},
   "source": [
    "**Penjelasan Pola 1:**\n",
    "Pola regex `r\"https?:\\/\\/\\S+\"` adalah pendekatan awal yang sederhana untuk mencari URL yang dimulai dengan `http://` atau `https://` diikuti oleh satu atau lebih karakter non-spasi.\n",
    "- `https?:\\/\\/`: Mencari \"http://\" atau \"https://\". Tanda `?` membuat 's' opsional.\n",
    "- `\\/\\/`: Mencari dua garis miring setelah protokol.\n",
    "- `\\S+`: Mencari satu atau lebih karakter non-spasi (yang umumnya membentuk sisa URL).\n",
    "\n",
    "Hasil dari pola ini pada 5 baris pertama data adalah:\n"
   ]
  },
  {
   "cell_type": "code",
   "execution_count": 49,
   "id": "8e9d710c-8a5b-4533-aa77-d7a7e2ad8cbe",
   "metadata": {},
   "outputs": [
    {
     "name": "stdout",
     "output_type": "stream",
     "text": [
      "\n",
      "Pola 2 (Termasuk www):\n",
      "  Baris 1: []\n",
      "  Baris 2: []\n",
      "  Baris 3: []\n",
      "  Baris 4: []\n",
      "  Baris 5: []\n"
     ]
    }
   ],
   "source": [
    "# Pola Regex 2 untuk Tujuan 1 (Termasuk www)\n",
    "pola2_url = r\"(?:https?:\\/\\/)?(?:www\\.)?\\S+\\.\\S+\"\n",
    "hasil2_url = teks.str.findall(pola2_url)\n",
    "print(\"\\nPola 2 (Termasuk www):\")\n",
    "for i in range(min(5, len(hasil2_url))):\n",
    "    print(f\"  Baris {i+1}: {hasil2_url.iloc[i]}\")"
   ]
  },
  {
   "cell_type": "markdown",
   "id": "fdccb41f-4847-4ab5-affb-13713fe545bc",
   "metadata": {},
   "source": [
    "**Penjelasan Pola 2:**\n",
    "Pola `r\"(?:https?:\\/\\/)?(?:www\\.)?\\S+\\.\\S+\"` mencoba menangkap URL yang mungkin juga memiliki awalan \"www.\" dan memastikan ada setidaknya satu titik (`.`) yang diikuti oleh karakter non-spasi setelahnya (untuk menangkap domain dan setidaknya top-level domain).\n",
    "- `(?:https?:\\/\\/)?`: Bagian non-capturing group `(?:...)` untuk \"http://\" atau \"https://\" yang bersifat opsional `?`.\n",
    "- `(?:www\\.)?`: Bagian non-capturing group untuk \"www.\" yang juga bersifat opsional.\n",
    "- `\\S+`: Satu atau lebih karakter non-spasi (untuk nama domain dan path).\n",
    "- `\\.`: Mencari karakter titik.\n",
    "- `\\S+`: Satu atau lebih karakter non-spasi setelah titik (untuk top-level domain dan seterusnya).\n",
    "\n",
    "Hasil dari pola ini pada 5 baris pertama data adalah:"
   ]
  },
  {
   "cell_type": "markdown",
   "id": "159380ab-1cf0-4b66-aa0c-2e5967cc36f3",
   "metadata": {},
   "source": [
    "## Tujuan 3: Mencari tweet yang mengandung kata-kata yang menunjukkan keraguan atau ketidakpastian.\n",
    "\n",
    "Tujuan pencarian ini adalah untuk mengidentifikasi tweet yang mungkin mengandung opini atau informasi yang tidak pasti terkait COVID-19. Kata-kata seperti \"maybe\", \"could be\", \"uncertain\", dan \"perhaps\" dapat mengindikasikan keraguan atau spekulasi."
   ]
  },
  {
   "cell_type": "code",
   "execution_count": 50,
   "id": "c4e1756a-6f6f-443c-8246-3b987c5bc369",
   "metadata": {},
   "outputs": [
    {
     "name": "stdout",
     "output_type": "stream",
     "text": [
      "\n",
      "Pola 1 (Kata kunci sederhana):\n",
      "  Baris 1: []\n",
      "  Baris 2: []\n",
      "  Baris 3: []\n",
      "  Baris 4: []\n",
      "  Baris 5: []\n"
     ]
    }
   ],
   "source": [
    "# Pola Regex 1 untuk Tujuan 3 (Kata kunci sederhana)\n",
    "pola1_ragu = r\"(maybe|could be|uncertain|perhaps)\"\n",
    "hasil1_ragu = teks.str.findall(pola1_ragu, flags=re.IGNORECASE)\n",
    "print(\"\\nPola 1 (Kata kunci sederhana):\")\n",
    "for i in range(min(5, len(hasil1_ragu))):\n",
    "    print(f\"  Baris {i+1}: {hasil1_ragu.iloc[i]}\")"
   ]
  },
  {
   "cell_type": "markdown",
   "id": "22001b32-8fc8-48a2-87e1-2b891a00f156",
   "metadata": {},
   "source": [
    "**Penjelasan Pola 1:**\n",
    "Pola regex `r\"(maybe|could be|uncertain|perhaps)\"` adalah upaya pertama untuk mencari kata-kata yang secara langsung menunjukkan keraguan atau ketidakpastian.\n",
    "- `(maybe|could be|uncertain|perhaps)`: Ini adalah sebuah grup yang mencari salah satu dari kata-kata yang disebutkan, dengan tanda `|` berfungsi sebagai \"atau\".\n",
    "- `flags=re.IGNORECASE`: Membuat pencarian tidak mempedulikan huruf besar atau kecil.\n",
    "\n",
    "Hasil dari pola ini pada 5 baris pertama data adalah:"
   ]
  },
  {
   "cell_type": "code",
   "execution_count": 51,
   "id": "804e35a3-2a40-4922-b9b3-1cf009b5f4fb",
   "metadata": {},
   "outputs": [
    {
     "name": "stdout",
     "output_type": "stream",
     "text": [
      "\n",
      "Pola 2 (Kata kunci diperluas - 100 Baris Pertama):\n"
     ]
    }
   ],
   "source": [
    "# Pola Regex 2 untuk Tujuan 3 (Kata kunci diperluas)\n",
    "pola2_ragu_luas = r\"(maybe|could be|uncertain|perhaps|possibly|likely|seem(s|ing)?|appear(s|ing)?)\"\n",
    "hasil2_ragu_luas_100 = teks.head(100).str.findall(pola2_ragu_luas, flags=re.IGNORECASE)\n",
    "print(\"\\nPola 2 (Kata kunci diperluas - 100 Baris Pertama):\")\n",
    "for i in range(min(5, len(hasil2_ragu_luas_100))):\n",
    "    if hasil2_ragu_luas_100.iloc[i]:\n",
    "        print(f\"  Baris {i+1}: {hasil2_ragu_luas_100.iloc[i]}\")"
   ]
  },
  {
   "cell_type": "markdown",
   "id": "366046a6-3837-4fad-a621-3d742adf15a1",
   "metadata": {},
   "source": [
    "**Penjelasan Pola 2:**\n",
    "Pola `r\"(maybe|could be|uncertain|perhaps|possibly|likely|seem(s|ing)?|appear(s|ing)?)\"` memperluas pencarian kata kunci untuk mencakup kata-kata lain yang mungkin mengindikasikan keraguan atau ketidakpastian, termasuk:\n",
    "- `possibly`: Mungkin\n",
    "- `likely`: Kemungkinan\n",
    "- `seem(s|ing)?`: Tampak (dengan atau tanpa akhiran 's' atau 'ing')\n",
    "- `appear(s|ing)?`: Muncul (dengan atau tanpa akhiran 's' atau 'ing')\n",
    "\n",
    "Kita mencari pola ini dalam 100 baris pertama data untuk melihat apakah ada kecocokan.\n",
    "\n",
    "Hasil dari pola ini pada 100 baris pertama data adalah (sesuai penemuan kita sebelumnya):"
   ]
  },
  {
   "cell_type": "markdown",
   "id": "1a979336-7592-4342-97cc-c4f6ad19d96e",
   "metadata": {},
   "source": [
    "## Tujuan 4: Mencari pola waktu dalam format jam:menit (HH:MM).\n",
    "\n",
    "Tujuan pencarian ini adalah untuk mengidentifikasi tweet yang mungkin mengandung informasi waktu dalam format jam dan menit. Kita akan mencari format 24 jam (HH:MM) dan format 12 jam dengan AM/PM (HH:MM AM/PM)."
   ]
  },
  {
   "cell_type": "code",
   "execution_count": 52,
   "id": "f2a81c89-2d07-4986-9b52-659522bdaf03",
   "metadata": {},
   "outputs": [
    {
     "name": "stdout",
     "output_type": "stream",
     "text": [
      "\n",
      "Pola 1 (Format 24 jam - 100 Baris Pertama):\n"
     ]
    }
   ],
   "source": [
    "# Pola Regex 1 untuk Tujuan 4 (Format 24 jam - HH:MM)\n",
    "pola1_waktu = r\"\\b([01]?[0-9]|2[0-3]):[0-5][0-9]\\b\"\n",
    "hasil1_waktu_100 = teks.head(100).str.findall(pola1_waktu)\n",
    "print(\"\\nPola 1 (Format 24 jam - 100 Baris Pertama):\")\n",
    "for i in range(min(5, len(hasil1_waktu_100))):\n",
    "    if hasil1_waktu_100.iloc[i]:\n",
    "        print(f\"  Baris {i+1}: {hasil1_waktu_100.iloc[i]}\")"
   ]
  },
  {
   "cell_type": "markdown",
   "id": "30f4d5db-bd04-4812-bef4-60f6534dd542",
   "metadata": {},
   "source": [
    "**Penjelasan Pola 1:**\n",
    "Pola regex `r\"\\b([01]?[0-9]|2[0-3]):[0-5][0-9]\\b\"` digunakan untuk mencari pola waktu dalam format 24 jam (HH:MM).\n",
    "- `\\b`: Word boundary, memastikan kita mencocokkan seluruh kata atau angka.\n",
    "- `([01]?[0-9]|2[0-3])`: Grup yang cocok dengan jam (00-23).\n",
    "- `:`: Mencari karakter titik dua sebagai pemisah.\n",
    "- `[0-5][0-9]`: Grup yang cocok dengan menit (00-59).\n",
    "- `\\b`: Word boundary lagi.\n",
    "\n",
    "Hasil dari pola ini pada 100 baris pertama data adalah:"
   ]
  },
  {
   "cell_type": "code",
   "execution_count": 53,
   "id": "b500c5c1-2850-4afb-a231-4829d833014d",
   "metadata": {},
   "outputs": [
    {
     "name": "stdout",
     "output_type": "stream",
     "text": [
      "\n",
      "Pola 2 (Format 12 jam AM/PM - 100 Baris Pertama):\n"
     ]
    }
   ],
   "source": [
    "# Pola Regex 2 untuk Tujuan 4 (Format 12 jam AM/PM)\n",
    "pola2_waktu = r\"\\b(0?[1-9]|1[0-2]):[0-5][0-9]\\s?(?:AM|PM)\\b\"\n",
    "hasil2_waktu_100 = teks.head(100).str.findall(pola2_waktu, flags=re.IGNORECASE)\n",
    "print(\"\\nPola 2 (Format 12 jam AM/PM - 100 Baris Pertama):\")\n",
    "for i in range(min(5, len(hasil2_waktu_100))):\n",
    "    if hasil2_waktu_100.iloc[i]:\n",
    "        print(f\"  Baris {i+1}: {hasil2_waktu_100.iloc[i]}\")"
   ]
  },
  {
   "cell_type": "markdown",
   "id": "d5f2320e-ee36-4f99-9a01-627c84ecc18a",
   "metadata": {},
   "source": [
    "**Penjelasan Pola 2:**\n",
    "Pola regex `r\"\\b(0?[1-9]|1[0-2]):[0-5][0-9]\\s?(?:AM|PM)\\b\"` digunakan untuk mencari pola waktu dalam format 12 jam (HH:MM AM/PM).\n",
    "- `\\b`: Word boundary.\n",
    "- `(0?[1-9]|1[0-2])`: Grup yang cocok dengan jam (1-12).\n",
    "- `:`: Mencari karakter titik dua sebagai pemisah.\n",
    "- `[0-5][0-9]`: Grup yang cocok dengan menit (00-59).\n",
    "- `\\s?`: Nol atau satu spasi opsional sebelum AM/PM.\n",
    "- `(?:AM|PM)`: Grup non-penangkap yang cocok dengan \"AM\" atau \"PM\" (case-insensitive).\n",
    "- `\\b`: Word boundary lagi.\n",
    "\n",
    "Hasil dari pola ini pada 100 baris pertama data adalah:"
   ]
  },
  {
   "cell_type": "markdown",
   "id": "7c803dac-7c6c-4e6e-8b6e-83558e9c9873",
   "metadata": {},
   "source": [
    "## Tujuan 5: Mencari tweet yang mengandung kata \"government\" (atau variasinya) diikuti oleh kata kerja tindakan negatif.\n",
    "\n",
    "Tujuan pencarian ini adalah untuk mengidentifikasi tweet yang mungkin mengandung sentimen negatif atau kritik terhadap tindakan pemerintah terkait COVID-19. Kita akan mencari kata \"government\" atau \"Govt\" diikuti oleh kata kerja seperti \"failed\", \"ignoring\", atau \"slow\"."
   ]
  },
  {
   "cell_type": "code",
   "execution_count": 54,
   "id": "37050f60-14aa-42e1-8a0a-f408b7672783",
   "metadata": {
    "scrolled": true
   },
   "outputs": [
    {
     "name": "stdout",
     "output_type": "stream",
     "text": [
      "\n",
      "Pola 1 (Sederhana - 100 Baris Pertama):\n"
     ]
    }
   ],
   "source": [
    "# Pola Regex 1 untuk Tujuan 5 (Sederhana)\n",
    "pola1_gov_negatif = r\"(government|Govt)\\s+(failed|ignoring|slow)\"\n",
    "hasil1_gov_negatif_100 = teks.head(100).str.findall(pola1_gov_negatif, flags=re.IGNORECASE)\n",
    "print(\"\\nPola 1 (Sederhana - 100 Baris Pertama):\")\n",
    "for i in range(min(5, len(hasil1_gov_negatif_100))):\n",
    "    if hasil1_gov_negatif_100.iloc[i]:\n",
    "        print(f\"  Baris {i+1}: {hasil1_gov_negatif_100.iloc[i]}\")"
   ]
  },
  {
   "cell_type": "markdown",
   "id": "7c39469f-78a7-423d-99d5-a00619116742",
   "metadata": {},
   "source": [
    "**Penjelasan Pola 1:**\n",
    "Pola regex `r\"(government|Govt)\\s+(failed|ignoring|slow)\"` mencari kemunculan kata \"government\" atau \"Govt\" (case-insensitive) diikuti oleh satu atau lebih spasi (`\\s+`) dan salah satu kata kerja negatif \"failed\", \"ignoring\", atau \"slow\".\n",
    "\n",
    "Hasil dari pola ini pada 100 baris pertama data adalah:"
   ]
  },
  {
   "cell_type": "code",
   "execution_count": 55,
   "id": "4f622ba5-a494-4202-80ad-c000da0ae08b",
   "metadata": {},
   "outputs": [
    {
     "name": "stdout",
     "output_type": "stream",
     "text": [
      "\n",
      "Pola 2 (Fleksibel - 100 Baris Pertama):\n",
      "  Baris 79: [('government', 'failed')]\n"
     ]
    }
   ],
   "source": [
    "# Pola Regex 2 untuk Tujuan 5 (Fleksibel - 100 Baris Pertama)\n",
    "pola2_gov_negatif_fleksibel = r\"(government|Govt)\\s+\\w+\\s+(failed|ignoring|slow)\"\n",
    "hasil2_gov_negatif_fleksibel_100 = teks.head(100).str.findall(pola2_gov_negatif_fleksibel, flags=re.IGNORECASE)\n",
    "print(\"\\nPola 2 (Fleksibel - 100 Baris Pertama):\")\n",
    "for i in range(len(hasil2_gov_negatif_fleksibel_100)):\n",
    "    if hasil2_gov_negatif_fleksibel_100.iloc[i]:\n",
    "        print(f\"  Baris {i+1}: {hasil2_gov_negatif_fleksibel_100.iloc[i]}\")"
   ]
  },
  {
   "cell_type": "markdown",
   "id": "7e81314f-213f-4c70-a334-459ccd2f61e1",
   "metadata": {},
   "source": [
    "**Penjelasan Pola 2:**\n",
    "Pola `r\"(government|Govt)\\s+\\w+\\s+(failed|ignoring|slow)\"` adalah pola yang lebih fleksibel. Kita mencari \"government\" atau \"Govt\" (case-insensitive) diikuti oleh satu atau lebih spasi (`\\s+`), kemudian satu atau lebih karakter kata (`\\w+`) yang memungkinkan adanya kata lain di antara \"government\" dan kata kerja negatif, diikuti lagi oleh satu atau lebih spasi (`\\s+`) dan salah satu kata kerja negatif.\n",
    "\n",
    "Hasil dari pola ini pada 100 baris pertama data adalah:"
   ]
  },
  {
   "cell_type": "markdown",
   "id": "6932b1be-2055-4b3e-b80b-3b5cb6fd1d80",
   "metadata": {},
   "source": [
    "## Kesimpulan\n",
    "\n",
    "Dalam eksplorasi data teks ini, kita telah mencoba menggunakan regular expressions untuk mengidentifikasi berbagai pola menarik dalam tweet terkait COVID-19. Kita telah menetapkan lima tujuan pencarian yang berbeda, mulai dari mencari URL hingga mengidentifikasi sentimen negatif terhadap pemerintah.\n",
    "\n",
    "Meskipun beberapa pola (seperti URL dan format waktu) tidak ditemukan di awal dataset yang diperiksa, kita berhasil mengidentifikasi kata-kata yang menunjukkan keraguan dan konstruksi kalimat yang menunjukkan kritik terhadap pemerintah. Ini menunjukkan fleksibilitas regex dalam menemukan pola-pola spesifik dalam teks.\n",
    "\n",
    "Tantangan utama yang dihadapi adalah bahwa pola yang dicari mungkin tidak tersebar merata dalam dataset, sehingga pencarian pada sebagian kecil data mungkin tidak selalu menghasilkan hasil yang representatif. Selain itu, menyusun pola regex yang secara akurat menangkap semua variasi bahasa bisa menjadi kompleks.\n",
    "\n",
    "Langkah selanjutnya yang mungkin dilakukan adalah menganalisis seluruh dataset untuk mendapatkan gambaran yang lebih lengkap, menyempurnakan pola regex berdasarkan temuan awal, dan mungkin mengeksplorasi tujuan pencarian lain yang relevan dengan analisis sentimen dan informasi COVID-19."
   ]
  },
  {
   "cell_type": "code",
   "execution_count": null,
   "id": "ddea1d26-b80d-4230-b4e6-4fc87acc0d5c",
   "metadata": {},
   "outputs": [],
   "source": []
  }
 ],
 "metadata": {
  "kernelspec": {
   "display_name": "Python 3 (ipykernel)",
   "language": "python",
   "name": "python3"
  },
  "language_info": {
   "codemirror_mode": {
    "name": "ipython",
    "version": 3
   },
   "file_extension": ".py",
   "mimetype": "text/x-python",
   "name": "python",
   "nbconvert_exporter": "python",
   "pygments_lexer": "ipython3",
   "version": "3.13.3"
  }
 },
 "nbformat": 4,
 "nbformat_minor": 5
}
